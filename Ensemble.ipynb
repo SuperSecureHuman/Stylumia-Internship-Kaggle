{
 "cells": [
  {
   "cell_type": "code",
   "execution_count": 4,
   "metadata": {},
   "outputs": [],
   "source": [
    "# Input - Multiple CSV files (kaggle submission format)\n",
    "# OUTPUT - Mode of all the predictions"
   ]
  },
  {
   "cell_type": "code",
   "execution_count": 11,
   "metadata": {},
   "outputs": [],
   "source": [
    "import pandas as pd"
   ]
  },
  {
   "cell_type": "code",
   "execution_count": 39,
   "metadata": {},
   "outputs": [],
   "source": [
    "file1 = pd.read_csv(\n",
    "    '/home/venom/repo/Stylumia-Internship-Kaggle/ensemble_top.csv')\n",
    "file2 = pd.read_csv(\n",
    "    '/home/venom/repo/Stylumia-Internship-Kaggle/Scripted/resnet18.csv')\n",
    "file3 = pd.read_csv(\n",
    "    \"Scripted/efficientnet_lite0.csv\")\n",
    "file4 = pd.read_csv(\n",
    "    \"/home/venom/repo/Stylumia-Internship-Kaggle/Scripted/mobilenetv3_large_100.csv\")\n",
    "file5 = pd.read_csv(\n",
    "    \"/home/venom/repo/Stylumia-Internship-Kaggle/Scripted/efficientnet_b4.csv\")\n",
    "\n",
    "file6 = pd.read_csv(\n",
    "    \"/home/venom/repo/Stylumia-Internship-Kaggle/Scripted/mobilenetv2_100.csv\")\n",
    "file7 = pd.read_csv(\n",
    "    \"/home/venom/repo/Stylumia-Internship-Kaggle/Scripted/efficientnet_lite0.csv\")\n",
    "\n"
   ]
  },
  {
   "cell_type": "code",
   "execution_count": 40,
   "metadata": {},
   "outputs": [],
   "source": [
    "# Columns are file_name,label. First sort by file_name then find mode of label\n",
    "file1 = file1.sort_values(by=['file_name'])\n",
    "file2 = file2.sort_values(by=['file_name'])\n",
    "file3 = file3.sort_values(by=['file_name'])\n",
    "file4 = file4.sort_values(by=['file_name'])\n",
    "file5 = file5.sort_values(by=['file_name'])\n",
    "file6 = file6.sort_values(by=['file_name'])\n",
    "file7 = file7.sort_values(by=['file_name'])\n"
   ]
  },
  {
   "cell_type": "code",
   "execution_count": 41,
   "metadata": {},
   "outputs": [],
   "source": [
    "# drop the row index\n",
    "file1 = file1.reset_index(drop=True)\n",
    "file2 = file2.reset_index(drop=True)\n",
    "file3 = file3.reset_index(drop=True)\n",
    "file4 = file4.reset_index(drop=True)\n",
    "file5 = file5.reset_index(drop=True)\n",
    "file6 = file6.reset_index(drop=True)\n",
    "file7 = file7.reset_index(drop=True)"
   ]
  },
  {
   "cell_type": "code",
   "execution_count": 42,
   "metadata": {},
   "outputs": [],
   "source": [
    "# Put all the file labels in one df\n",
    "df = pd.DataFrame()\n",
    "df['file_name'] = file1['file_name']\n",
    "df['label1'] = file1['label']\n",
    "df['label2'] = file2['label']\n",
    "df['label3'] = file3['label']\n",
    "df['label4'] = file4['label']\n",
    "df['label5'] = file5['label']\n",
    "df['label6'] = file6['label']\n",
    "df['label7'] = file7['label']\n"
   ]
  },
  {
   "cell_type": "code",
   "execution_count": null,
   "metadata": {},
   "outputs": [],
   "source": []
  },
  {
   "cell_type": "code",
   "execution_count": 43,
   "metadata": {},
   "outputs": [],
   "source": [
    "# Find mode of all the labels, na if there is a tie\n",
    "df['mode'] = df[['label1', 'label2', 'label3', 'label4', 'label5', 'label6', 'label7']].mode(axis=1)[0]"
   ]
  },
  {
   "cell_type": "code",
   "execution_count": 44,
   "metadata": {},
   "outputs": [
    {
     "data": {
      "text/html": [
       "<div>\n",
       "<style scoped>\n",
       "    .dataframe tbody tr th:only-of-type {\n",
       "        vertical-align: middle;\n",
       "    }\n",
       "\n",
       "    .dataframe tbody tr th {\n",
       "        vertical-align: top;\n",
       "    }\n",
       "\n",
       "    .dataframe thead th {\n",
       "        text-align: right;\n",
       "    }\n",
       "</style>\n",
       "<table border=\"1\" class=\"dataframe\">\n",
       "  <thead>\n",
       "    <tr style=\"text-align: right;\">\n",
       "      <th></th>\n",
       "      <th>file_name</th>\n",
       "      <th>label1</th>\n",
       "      <th>label2</th>\n",
       "      <th>label3</th>\n",
       "      <th>label4</th>\n",
       "      <th>label5</th>\n",
       "      <th>label6</th>\n",
       "      <th>label7</th>\n",
       "      <th>mode</th>\n",
       "    </tr>\n",
       "  </thead>\n",
       "  <tbody>\n",
       "    <tr>\n",
       "      <th>0</th>\n",
       "      <td>Image_test_00001.jpg</td>\n",
       "      <td>2</td>\n",
       "      <td>2</td>\n",
       "      <td>2</td>\n",
       "      <td>2</td>\n",
       "      <td>2</td>\n",
       "      <td>2</td>\n",
       "      <td>2</td>\n",
       "      <td>2.0</td>\n",
       "    </tr>\n",
       "    <tr>\n",
       "      <th>1</th>\n",
       "      <td>Image_test_00002.jpg</td>\n",
       "      <td>2</td>\n",
       "      <td>2</td>\n",
       "      <td>2</td>\n",
       "      <td>2</td>\n",
       "      <td>2</td>\n",
       "      <td>2</td>\n",
       "      <td>2</td>\n",
       "      <td>2.0</td>\n",
       "    </tr>\n",
       "    <tr>\n",
       "      <th>2</th>\n",
       "      <td>Image_test_00003.jpg</td>\n",
       "      <td>2</td>\n",
       "      <td>2</td>\n",
       "      <td>2</td>\n",
       "      <td>0</td>\n",
       "      <td>1</td>\n",
       "      <td>1</td>\n",
       "      <td>2</td>\n",
       "      <td>2.0</td>\n",
       "    </tr>\n",
       "    <tr>\n",
       "      <th>3</th>\n",
       "      <td>Image_test_00004.jpg</td>\n",
       "      <td>1</td>\n",
       "      <td>1</td>\n",
       "      <td>1</td>\n",
       "      <td>1</td>\n",
       "      <td>1</td>\n",
       "      <td>1</td>\n",
       "      <td>1</td>\n",
       "      <td>1.0</td>\n",
       "    </tr>\n",
       "    <tr>\n",
       "      <th>4</th>\n",
       "      <td>Image_test_00005.jpg</td>\n",
       "      <td>2</td>\n",
       "      <td>2</td>\n",
       "      <td>2</td>\n",
       "      <td>2</td>\n",
       "      <td>2</td>\n",
       "      <td>2</td>\n",
       "      <td>2</td>\n",
       "      <td>2.0</td>\n",
       "    </tr>\n",
       "    <tr>\n",
       "      <th>...</th>\n",
       "      <td>...</td>\n",
       "      <td>...</td>\n",
       "      <td>...</td>\n",
       "      <td>...</td>\n",
       "      <td>...</td>\n",
       "      <td>...</td>\n",
       "      <td>...</td>\n",
       "      <td>...</td>\n",
       "      <td>...</td>\n",
       "    </tr>\n",
       "    <tr>\n",
       "      <th>5746</th>\n",
       "      <td>Image_test_05747.jpg</td>\n",
       "      <td>0</td>\n",
       "      <td>0</td>\n",
       "      <td>0</td>\n",
       "      <td>0</td>\n",
       "      <td>0</td>\n",
       "      <td>0</td>\n",
       "      <td>0</td>\n",
       "      <td>0.0</td>\n",
       "    </tr>\n",
       "    <tr>\n",
       "      <th>5747</th>\n",
       "      <td>Image_test_05748.jpg</td>\n",
       "      <td>1</td>\n",
       "      <td>1</td>\n",
       "      <td>0</td>\n",
       "      <td>2</td>\n",
       "      <td>1</td>\n",
       "      <td>0</td>\n",
       "      <td>0</td>\n",
       "      <td>0.0</td>\n",
       "    </tr>\n",
       "    <tr>\n",
       "      <th>5748</th>\n",
       "      <td>Image_test_05749.jpg</td>\n",
       "      <td>2</td>\n",
       "      <td>2</td>\n",
       "      <td>2</td>\n",
       "      <td>2</td>\n",
       "      <td>2</td>\n",
       "      <td>2</td>\n",
       "      <td>2</td>\n",
       "      <td>2.0</td>\n",
       "    </tr>\n",
       "    <tr>\n",
       "      <th>5749</th>\n",
       "      <td>Image_test_05750.jpg</td>\n",
       "      <td>1</td>\n",
       "      <td>1</td>\n",
       "      <td>1</td>\n",
       "      <td>1</td>\n",
       "      <td>1</td>\n",
       "      <td>1</td>\n",
       "      <td>1</td>\n",
       "      <td>1.0</td>\n",
       "    </tr>\n",
       "    <tr>\n",
       "      <th>5750</th>\n",
       "      <td>Image_test_05751.jpg</td>\n",
       "      <td>1</td>\n",
       "      <td>1</td>\n",
       "      <td>1</td>\n",
       "      <td>0</td>\n",
       "      <td>1</td>\n",
       "      <td>1</td>\n",
       "      <td>1</td>\n",
       "      <td>1.0</td>\n",
       "    </tr>\n",
       "  </tbody>\n",
       "</table>\n",
       "<p>5751 rows × 9 columns</p>\n",
       "</div>"
      ],
      "text/plain": [
       "                 file_name  label1  label2  label3  label4  label5  label6  \\\n",
       "0     Image_test_00001.jpg       2       2       2       2       2       2   \n",
       "1     Image_test_00002.jpg       2       2       2       2       2       2   \n",
       "2     Image_test_00003.jpg       2       2       2       0       1       1   \n",
       "3     Image_test_00004.jpg       1       1       1       1       1       1   \n",
       "4     Image_test_00005.jpg       2       2       2       2       2       2   \n",
       "...                    ...     ...     ...     ...     ...     ...     ...   \n",
       "5746  Image_test_05747.jpg       0       0       0       0       0       0   \n",
       "5747  Image_test_05748.jpg       1       1       0       2       1       0   \n",
       "5748  Image_test_05749.jpg       2       2       2       2       2       2   \n",
       "5749  Image_test_05750.jpg       1       1       1       1       1       1   \n",
       "5750  Image_test_05751.jpg       1       1       1       0       1       1   \n",
       "\n",
       "      label7  mode  \n",
       "0          2   2.0  \n",
       "1          2   2.0  \n",
       "2          2   2.0  \n",
       "3          1   1.0  \n",
       "4          2   2.0  \n",
       "...      ...   ...  \n",
       "5746       0   0.0  \n",
       "5747       0   0.0  \n",
       "5748       2   2.0  \n",
       "5749       1   1.0  \n",
       "5750       1   1.0  \n",
       "\n",
       "[5751 rows x 9 columns]"
      ]
     },
     "execution_count": 44,
     "metadata": {},
     "output_type": "execute_result"
    }
   ],
   "source": [
    "df"
   ]
  },
  {
   "cell_type": "code",
   "execution_count": 45,
   "metadata": {},
   "outputs": [],
   "source": [
    "# Change mode to int\n",
    "df['mode'] = df['mode'].astype(int)"
   ]
  },
  {
   "cell_type": "code",
   "execution_count": 46,
   "metadata": {},
   "outputs": [
    {
     "data": {
      "text/plain": [
       "5194"
      ]
     },
     "execution_count": 46,
     "metadata": {},
     "output_type": "execute_result"
    }
   ],
   "source": [
    "# sum of matching values in label1 and mode\n",
    "sum(df['label1'] == df['mode'])\n"
   ]
  },
  {
   "cell_type": "code",
   "execution_count": 36,
   "metadata": {},
   "outputs": [],
   "source": [
    "# Drop all the other columns\n",
    "df = df.drop(['label1', 'label2', 'label3', 'label4' ,'label5', 'label6', 'label7'], axis=1)"
   ]
  },
  {
   "cell_type": "code",
   "execution_count": 37,
   "metadata": {},
   "outputs": [],
   "source": [
    "# Save the file, in the same format as the kaggle submission, with column names as file_name,label\n",
    "df.to_csv('/home/venom/repo/Stylumia-Internship-Kaggle/ensemble_top_new_final.csv', index=False)"
   ]
  },
  {
   "cell_type": "code",
   "execution_count": null,
   "metadata": {},
   "outputs": [],
   "source": []
  }
 ],
 "metadata": {
  "kernelspec": {
   "display_name": "base",
   "language": "python",
   "name": "python3"
  },
  "language_info": {
   "codemirror_mode": {
    "name": "ipython",
    "version": 3
   },
   "file_extension": ".py",
   "mimetype": "text/x-python",
   "name": "python",
   "nbconvert_exporter": "python",
   "pygments_lexer": "ipython3",
   "version": "3.8.16"
  },
  "orig_nbformat": 4
 },
 "nbformat": 4,
 "nbformat_minor": 2
}
